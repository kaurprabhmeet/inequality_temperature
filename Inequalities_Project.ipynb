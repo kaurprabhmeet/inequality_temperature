{
  "nbformat": 4,
  "nbformat_minor": 0,
  "metadata": {
    "colab": {
      "provenance": [],
      "collapsed_sections": [],
      "include_colab_link": true
    },
    "kernelspec": {
      "name": "python3",
      "display_name": "Python 3"
    },
    "language_info": {
      "name": "python"
    }
  },
  "cells": [
    {
      "cell_type": "markdown",
      "metadata": {
        "id": "view-in-github",
        "colab_type": "text"
      },
      "source": [
        "<a href=\"https://colab.research.google.com/github/kaurprabhmeet/inequality_temperature/blob/main/Inequalities_Project.ipynb\" target=\"_parent\"><img src=\"https://colab.research.google.com/assets/colab-badge.svg\" alt=\"Open In Colab\"/></a>"
      ]
    },
    {
      "cell_type": "markdown",
      "source": [
        "***Data to Use:***\n",
        "1. Mortality\n",
        "https://www.ons.gov.uk/peoplepopulationandcommunity/birthsdeathsandmarriages/deaths/datasets/weeklyprovisionalfiguresondeathsregisteredinenglandandwales\n",
        "2. Population: https://www.ons.gov.uk/peoplepopulationandcommunity/populationandmigration/populationestimates/datasets/populationestimatesforukenglandandwalesscotlandandnorthernireland\n",
        "<<<<\n",
        "3. Temperature:\n",
        "\n",
        "  max, min temperature by region: https://catalogue.ceda.ac.uk/uuid/4dc8450d889a491ebb20e724debe2dfb\n",
        "   \n",
        "   https://www.metoffice.gov.uk/hadobs/hadukp/data/download.html"
      ],
      "metadata": {
        "id": "xq-Dh_A44dyh"
      }
    },
    {
      "cell_type": "markdown",
      "source": [
        "The following codes are used for processing temperature data."
      ],
      "metadata": {
        "id": "OZD-EFRSgRyk"
      }
    },
    {
      "cell_type": "code",
      "source": [
        "import pandas as pd\n",
        "df = pd.read_csv(\"https://github.com/PythonForEconomicsWeek2022/clownfish_cookies/blob/temperature/weekly_max_min_Friday.csv\")"
      ],
      "metadata": {
        "id": "rSLoQ3M8aP1N"
      },
      "execution_count": null,
      "outputs": []
    },
    {
      "cell_type": "code",
      "source": [
        "import os\n",
        "import numpy as np\n",
        "import pandas as pd\n",
        "import datetime as dt\n",
        "\n",
        "os.chdir(\"/content/drive\")\n",
        "path = os.getcwd()\n",
        "print(path)\n",
        "# Dictionary for matching region names and region codes. The codes I don't know are assigned '000000000'.\n",
        "code_dict = {'North East':'E12000001','North West':'E12000002','Yorkshire and The Humber':'E12000003','East Midlands':'E12000004','West Midlands':'E12000005','East':'E12000006','London':'E12000007','South East':'E12000008','South West':'E12000009','Wales':'W92000004','Northern Ireland':'N92000002','West Scotland':'S17000018','East Scotland':'000000000','Isle of Man':'000000000','North Scotland':'000000000','West Scotland':'000000000'}"
      ],
      "metadata": {
        "id": "nJylTWdaIcwl",
        "colab": {
          "base_uri": "https://localhost:8080/"
        },
        "outputId": "1149119d-a858-483f-de71-3c368f237156"
      },
      "execution_count": null,
      "outputs": [
        {
          "output_type": "stream",
          "name": "stdout",
          "text": [
            "/content/drive\n"
          ]
        }
      ]
    },
    {
      "cell_type": "code",
      "source": [
        "df = pd.read_csv('https://github.com/PythonForEconomicsWeek2022/clownfish_cookies/blob/d1d3d2b1557b9f67b2df9b5a039966d05f7b1897/daily_min_max_air_temperature.csv')\n",
        "print(df.head())"
      ],
      "metadata": {
        "id": "AIzDzQ6irvyP"
      },
      "execution_count": null,
      "outputs": []
    },
    {
      "cell_type": "code",
      "source": [
        "# Construct a dataframe for daily data\n",
        "atdf = pd.DataFrame()\n",
        "for r in code_dict:\n",
        "    maxdf = pd.read_csv(path + '/air_temp_max_raw/'+r+'.csv',header=None,names=['date','max'])\n",
        "    mindf = pd.read_csv(path + '/air_temp_min_raw/'+r+'.csv',header=None,names=['date','min'])\n",
        "    df = pd.concat([maxdf,mindf['min']],axis=1)\n",
        "    df['region_name'] = r\n",
        "    df['region_code'] = code_dict[r]\n",
        "    atdf = pd.concat([atdf,df])\n",
        "    print(atdf.shape)\n",
        "atdf['date'] = pd.to_datetime(atdf['date'])"
      ],
      "metadata": {
        "id": "ypExscehAxkY"
      },
      "execution_count": null,
      "outputs": []
    },
    {
      "cell_type": "code",
      "source": [
        "# Construct a dataframe for weekly data\n",
        "atweek = pd.DataFrame()\n",
        "for r in code_dict:\n",
        "    # for max\n",
        "    maxdf = pd.read_csv(path + '/tasmax/'+r+'.csv',header=None,names=['date','max'])\n",
        "    maxdf['date'] = pd.to_datetime(maxdf['date'])\n",
        "    maxdf = maxdf.set_index('date')\n",
        "    maxweek = maxdf.resample('W').max() # This method helps calculate weekly max. The date indexes are Sundays of the corresponding weeks.\n",
        "    # for min\n",
        "    mindf = pd.read_csv(path + '/tasmin/'+r+'.csv',header=None,names=['date','min'])\n",
        "    mindf['date'] = pd.to_datetime(mindf['date'])\n",
        "    mindf = mindf.set_index('date')\n",
        "    minweek = mindf.resample('W').min()\n",
        "    # concat max and min\n",
        "    df = pd.concat([maxweek,minweek['min']],axis=1)\n",
        "    df['region_name'] = r\n",
        "    df['region_code'] = code_dict[r]\n",
        "    atweek = pd.concat([atweek,df])"
      ],
      "metadata": {
        "id": "a62-MNLTgk6H"
      },
      "execution_count": null,
      "outputs": []
    },
    {
      "cell_type": "code",
      "source": [
        "# Reorder columns\n",
        "atdf = atdf[['date','region_code','region_name','min','max']]\n",
        "atweek = atweek[['region_code','region_name','min','max']]\n",
        "\n",
        "# Export as csv\n",
        "atdf.to_csv(path + '\\daily_max_min.csv', index=False)\n",
        "atweek.to_csv(path + '\\weekly_max_min.csv')"
      ],
      "metadata": {
        "id": "2hbqAP7Tgtfm"
      },
      "execution_count": null,
      "outputs": []
    },
    {
      "cell_type": "markdown",
      "source": [
        "The following codes are used for processing population data."
      ],
      "metadata": {
        "id": "gODlRoM8gw9e"
      }
    },
    {
      "cell_type": "code",
      "source": [
        "# Importing population data\n",
        "pop_col = pd.read_excel(\"Population_by regions_UK_2000 to 2020\") # change to path once uploaded \n",
        "# Extract years we want\n",
        "Bool_later_than_2010 = pop_col[\"year\"] > 2010 # change years in question\n",
        "pop_col_start2010 = pop_col[Bool_later_than_2010]\n",
        "# Adding column to original data\n",
        "years_lidt = {'1':'2011', '2':'2012','3':'2013','4':'2014','5':'2015','6':'2016','7':'2017','8':'2018','9':'2019'}"
      ],
      "metadata": {
        "id": "T8PN0JceIfcp"
      },
      "execution_count": null,
      "outputs": []
    },
    {
      "cell_type": "markdown",
      "source": [
        "Code for Mortality Data:"
      ],
      "metadata": {
        "id": "_hboLlkHeu_D"
      }
    },
    {
      "cell_type": "code",
      "source": [
        "#Imports\n",
        "import pandas as pd\n",
        "import warnings\n",
        "import openpyxl\n",
        "warnings.simplefilter(action='ignore', category=FutureWarning)\n",
        "\n",
        "#Initialises and Paths\n",
        "wd=\"/Users/yoda/Desktop/Python for Economics 3rd Year/\""
      ],
      "metadata": {
        "id": "FslqMy6Fe1gm"
      },
      "execution_count": null,
      "outputs": []
    },
    {
      "cell_type": "code",
      "source": [
        "df=pd.DataFrame()\n",
        "for i in range(2010,2020):\n",
        "    file=wd+\"mortality\"+str(i)+\".xls\"\n",
        "    \n",
        "    #reading the mortality file\n",
        "    local_df=pd.read_excel(file,sheet_name=3)\n",
        "    #comp_df=pd.read_excel(\"Compiled.xls\"+wd)\n",
        "    \n",
        "    len1=(local_df.shape[1])\n",
        "    if i!=2014:\n",
        "        week_no=local_df.iloc[2,0:len1]\n",
        "        week_date=local_df.iloc[3,0:len1]\n",
        "    else:\n",
        "        week_no=local_df.iloc[1,0:len1]\n",
        "        week_date=local_df.iloc[2,0:len1]\n",
        "\n",
        "    local_df=local_df.iloc[41:51,0:len1]\n",
        "\n",
        "    local_df=local_df.reset_index(drop=True)\n",
        "    \n",
        "    week_no[0]=\"District No\"\n",
        "    week_no[1]=\"District Name\"\n",
        "    local_df.columns=week_no\n",
        "    [str(i) for i in week_no]\n",
        "    \n",
        "    #Getting year from file name\n",
        "    local_df[\"Year\"]=i\n",
        "    \n",
        "    local_df=local_df.melt(id_vars=[\"District Name\",\"District No\",\"Year\"])\n",
        "    local_df.rename(columns={local_df.columns[3]:\"Week\"},inplace=True)\n",
        "    print(local_df)\n",
        "\n",
        "    local_df=local_df.sort_values(by=[\"District Name\",\"Week\"])\n",
        "        \n",
        "\n",
        "    df=df.append(local_df)"
      ],
      "metadata": {
        "id": "V2ooNBzMe9zR"
      },
      "execution_count": null,
      "outputs": []
    },
    {
      "cell_type": "code",
      "source": [
        "print(df)\n",
        "local_df=local_df.reset_index()\n",
        "local_df.drop(\"index\",inplace=True,axis=1)\n",
        "df.to_excel(wd+\"merged_mortality.xlsx\")"
      ],
      "metadata": {
        "id": "7RFrgXLCfK8h"
      },
      "execution_count": null,
      "outputs": []
    },
    {
      "cell_type": "markdown",
      "source": [
        "The following code is for the FE regression, Pooled regression and 2-way FE"
      ],
      "metadata": {
        "id": "vH-2WwcGU34I"
      }
    },
    {
      "cell_type": "code",
      "source": [
        "# Performing a pooled regression to check if the assumptions of \n",
        "# Linearity, Exogeneity, Homoskedasticity , Non-autocorrelation, Non-stochastic independent variables and, No Multicolinearity are satisfied\n",
        "\n",
        "\n",
        "# Importing the merged dataset\n",
        "import pandas as pd\n",
        "dataset = pd.read_csv('https://raw.githubusercontent.com/PythonForEconomicsWeek2022/clownfish_cookies/main/final.csv', usecols = ['Year', 'Region_Code', 'Region_Name', 'Week_No', 'Week_Date', 'Mortality', 'min', 'max', 'Total_population', '_id'], index_col = ['Region_Name', '_id'])\n",
        "\n",
        "week = dataset.index.get_level_values('_id').to_list()\n",
        "dataset['_id'] = pd.Categorical(week)\n",
        "#dataset['Week_Date'] = pd.to_datetime(dataset['Week_Date'])\n",
        "#dataset['Week_Date'] = date\n",
        "#dataset = dataset.set_index(['Region_Name','Week_Date'])\n",
        "#dataset.head()\n",
        "dataset.head()\n",
        "\n",
        "\n"
      ],
      "metadata": {
        "colab": {
          "base_uri": "https://localhost:8080/",
          "height": 235
        },
        "id": "Jrg6qdMBoo9b",
        "outputId": "af21bc82-c377-4889-f1c6-029fc7e8df3e"
      },
      "execution_count": null,
      "outputs": [
        {
          "output_type": "execute_result",
          "data": {
            "text/html": [
              "\n",
              "  <div id=\"df-ff5aa9e6-2663-493f-b04c-e309d353a0a7\">\n",
              "    <div class=\"colab-df-container\">\n",
              "      <div>\n",
              "<style scoped>\n",
              "    .dataframe tbody tr th:only-of-type {\n",
              "        vertical-align: middle;\n",
              "    }\n",
              "\n",
              "    .dataframe tbody tr th {\n",
              "        vertical-align: top;\n",
              "    }\n",
              "\n",
              "    .dataframe thead th {\n",
              "        text-align: right;\n",
              "    }\n",
              "</style>\n",
              "<table border=\"1\" class=\"dataframe\">\n",
              "  <thead>\n",
              "    <tr style=\"text-align: right;\">\n",
              "      <th></th>\n",
              "      <th></th>\n",
              "      <th>Year</th>\n",
              "      <th>Region_Code</th>\n",
              "      <th>Week_No</th>\n",
              "      <th>Week_Date</th>\n",
              "      <th>Mortality</th>\n",
              "      <th>min</th>\n",
              "      <th>max</th>\n",
              "      <th>Total_population</th>\n",
              "      <th>_id</th>\n",
              "    </tr>\n",
              "    <tr>\n",
              "      <th>Region_Name</th>\n",
              "      <th>_id</th>\n",
              "      <th></th>\n",
              "      <th></th>\n",
              "      <th></th>\n",
              "      <th></th>\n",
              "      <th></th>\n",
              "      <th></th>\n",
              "      <th></th>\n",
              "      <th></th>\n",
              "      <th></th>\n",
              "    </tr>\n",
              "  </thead>\n",
              "  <tbody>\n",
              "    <tr>\n",
              "      <th rowspan=\"5\" valign=\"top\">North East</th>\n",
              "      <th>1</th>\n",
              "      <td>2019</td>\n",
              "      <td>E12000001</td>\n",
              "      <td>1</td>\n",
              "      <td>2019-01-04</td>\n",
              "      <td>574</td>\n",
              "      <td>-2.511655</td>\n",
              "      <td>10.670487</td>\n",
              "      <td>2,669,941</td>\n",
              "      <td>1</td>\n",
              "    </tr>\n",
              "    <tr>\n",
              "      <th>2</th>\n",
              "      <td>2019</td>\n",
              "      <td>E12000001</td>\n",
              "      <td>2</td>\n",
              "      <td>2019-01-11</td>\n",
              "      <td>643</td>\n",
              "      <td>-0.358468</td>\n",
              "      <td>10.641886</td>\n",
              "      <td>2,669,941</td>\n",
              "      <td>2</td>\n",
              "    </tr>\n",
              "    <tr>\n",
              "      <th>3</th>\n",
              "      <td>2019</td>\n",
              "      <td>E12000001</td>\n",
              "      <td>3</td>\n",
              "      <td>2019-01-18</td>\n",
              "      <td>627</td>\n",
              "      <td>-3.949547</td>\n",
              "      <td>9.949347</td>\n",
              "      <td>2,669,941</td>\n",
              "      <td>3</td>\n",
              "    </tr>\n",
              "    <tr>\n",
              "      <th>4</th>\n",
              "      <td>2019</td>\n",
              "      <td>E12000001</td>\n",
              "      <td>4</td>\n",
              "      <td>2019-01-25</td>\n",
              "      <td>640</td>\n",
              "      <td>-5.146210</td>\n",
              "      <td>10.009549</td>\n",
              "      <td>2,669,941</td>\n",
              "      <td>4</td>\n",
              "    </tr>\n",
              "    <tr>\n",
              "      <th>5</th>\n",
              "      <td>2019</td>\n",
              "      <td>E12000001</td>\n",
              "      <td>5</td>\n",
              "      <td>2019-02-01</td>\n",
              "      <td>618</td>\n",
              "      <td>-7.396507</td>\n",
              "      <td>8.452167</td>\n",
              "      <td>2,669,941</td>\n",
              "      <td>5</td>\n",
              "    </tr>\n",
              "  </tbody>\n",
              "</table>\n",
              "</div>\n",
              "      <button class=\"colab-df-convert\" onclick=\"convertToInteractive('df-ff5aa9e6-2663-493f-b04c-e309d353a0a7')\"\n",
              "              title=\"Convert this dataframe to an interactive table.\"\n",
              "              style=\"display:none;\">\n",
              "        \n",
              "  <svg xmlns=\"http://www.w3.org/2000/svg\" height=\"24px\"viewBox=\"0 0 24 24\"\n",
              "       width=\"24px\">\n",
              "    <path d=\"M0 0h24v24H0V0z\" fill=\"none\"/>\n",
              "    <path d=\"M18.56 5.44l.94 2.06.94-2.06 2.06-.94-2.06-.94-.94-2.06-.94 2.06-2.06.94zm-11 1L8.5 8.5l.94-2.06 2.06-.94-2.06-.94L8.5 2.5l-.94 2.06-2.06.94zm10 10l.94 2.06.94-2.06 2.06-.94-2.06-.94-.94-2.06-.94 2.06-2.06.94z\"/><path d=\"M17.41 7.96l-1.37-1.37c-.4-.4-.92-.59-1.43-.59-.52 0-1.04.2-1.43.59L10.3 9.45l-7.72 7.72c-.78.78-.78 2.05 0 2.83L4 21.41c.39.39.9.59 1.41.59.51 0 1.02-.2 1.41-.59l7.78-7.78 2.81-2.81c.8-.78.8-2.07 0-2.86zM5.41 20L4 18.59l7.72-7.72 1.47 1.35L5.41 20z\"/>\n",
              "  </svg>\n",
              "      </button>\n",
              "      \n",
              "  <style>\n",
              "    .colab-df-container {\n",
              "      display:flex;\n",
              "      flex-wrap:wrap;\n",
              "      gap: 12px;\n",
              "    }\n",
              "\n",
              "    .colab-df-convert {\n",
              "      background-color: #E8F0FE;\n",
              "      border: none;\n",
              "      border-radius: 50%;\n",
              "      cursor: pointer;\n",
              "      display: none;\n",
              "      fill: #1967D2;\n",
              "      height: 32px;\n",
              "      padding: 0 0 0 0;\n",
              "      width: 32px;\n",
              "    }\n",
              "\n",
              "    .colab-df-convert:hover {\n",
              "      background-color: #E2EBFA;\n",
              "      box-shadow: 0px 1px 2px rgba(60, 64, 67, 0.3), 0px 1px 3px 1px rgba(60, 64, 67, 0.15);\n",
              "      fill: #174EA6;\n",
              "    }\n",
              "\n",
              "    [theme=dark] .colab-df-convert {\n",
              "      background-color: #3B4455;\n",
              "      fill: #D2E3FC;\n",
              "    }\n",
              "\n",
              "    [theme=dark] .colab-df-convert:hover {\n",
              "      background-color: #434B5C;\n",
              "      box-shadow: 0px 1px 3px 1px rgba(0, 0, 0, 0.15);\n",
              "      filter: drop-shadow(0px 1px 2px rgba(0, 0, 0, 0.3));\n",
              "      fill: #FFFFFF;\n",
              "    }\n",
              "  </style>\n",
              "\n",
              "      <script>\n",
              "        const buttonEl =\n",
              "          document.querySelector('#df-ff5aa9e6-2663-493f-b04c-e309d353a0a7 button.colab-df-convert');\n",
              "        buttonEl.style.display =\n",
              "          google.colab.kernel.accessAllowed ? 'block' : 'none';\n",
              "\n",
              "        async function convertToInteractive(key) {\n",
              "          const element = document.querySelector('#df-ff5aa9e6-2663-493f-b04c-e309d353a0a7');\n",
              "          const dataTable =\n",
              "            await google.colab.kernel.invokeFunction('convertToInteractive',\n",
              "                                                     [key], {});\n",
              "          if (!dataTable) return;\n",
              "\n",
              "          const docLinkHtml = 'Like what you see? Visit the ' +\n",
              "            '<a target=\"_blank\" href=https://colab.research.google.com/notebooks/data_table.ipynb>data table notebook</a>'\n",
              "            + ' to learn more about interactive tables.';\n",
              "          element.innerHTML = '';\n",
              "          dataTable['output_type'] = 'display_data';\n",
              "          await google.colab.output.renderOutput(dataTable, element);\n",
              "          const docLink = document.createElement('div');\n",
              "          docLink.innerHTML = docLinkHtml;\n",
              "          element.appendChild(docLink);\n",
              "        }\n",
              "      </script>\n",
              "    </div>\n",
              "  </div>\n",
              "  "
            ],
            "text/plain": [
              "                 Year Region_Code  Week_No  ...        max  Total_population  _id\n",
              "Region_Name _id                             ...                                  \n",
              "North East  1    2019   E12000001        1  ...  10.670487         2,669,941    1\n",
              "            2    2019   E12000001        2  ...  10.641886         2,669,941    2\n",
              "            3    2019   E12000001        3  ...   9.949347         2,669,941    3\n",
              "            4    2019   E12000001        4  ...  10.009549         2,669,941    4\n",
              "            5    2019   E12000001        5  ...   8.452167         2,669,941    5\n",
              "\n",
              "[5 rows x 9 columns]"
            ]
          },
          "metadata": {},
          "execution_count": 226
        }
      ]
    },
    {
      "cell_type": "code",
      "source": [
        "\n",
        "from linearmodels import PooledOLS\n",
        "import statsmodels.api as sm\n",
        "\n",
        "# temperature\n",
        "dataset['Total_population'] = dataset['Total_population'].str.lstrip()\n",
        "dataset['Total_population'] = dataset['Total_population'].str.rstrip()\n",
        "dataset['Total_population'] = dataset['Total_population'].str.strip()\n",
        "dataset['Total_population'] = dataset['Total_population'].str.replace(',', '')\n",
        "dataset['Total_population'] = dataset['Total_population'].fillna(0)\n",
        "dataset['Total_population'] = dataset['Total_population'].astype(int)\n",
        "\n",
        "\n",
        "deaths = dataset['Mortality']/dataset['Total_population']\n",
        "\n",
        "dataset.head()\n"
      ],
      "metadata": {
        "colab": {
          "base_uri": "https://localhost:8080/",
          "height": 235
        },
        "id": "o2s2BfKApCsm",
        "outputId": "bc7f7d6f-739b-4e1b-c346-392f6cc31d23"
      },
      "execution_count": null,
      "outputs": [
        {
          "output_type": "execute_result",
          "data": {
            "text/html": [
              "\n",
              "  <div id=\"df-2970ed6d-c2cd-40a9-bd34-89717cbc6b59\">\n",
              "    <div class=\"colab-df-container\">\n",
              "      <div>\n",
              "<style scoped>\n",
              "    .dataframe tbody tr th:only-of-type {\n",
              "        vertical-align: middle;\n",
              "    }\n",
              "\n",
              "    .dataframe tbody tr th {\n",
              "        vertical-align: top;\n",
              "    }\n",
              "\n",
              "    .dataframe thead th {\n",
              "        text-align: right;\n",
              "    }\n",
              "</style>\n",
              "<table border=\"1\" class=\"dataframe\">\n",
              "  <thead>\n",
              "    <tr style=\"text-align: right;\">\n",
              "      <th></th>\n",
              "      <th></th>\n",
              "      <th>Year</th>\n",
              "      <th>Region_Code</th>\n",
              "      <th>Week_No</th>\n",
              "      <th>Week_Date</th>\n",
              "      <th>Mortality</th>\n",
              "      <th>min</th>\n",
              "      <th>max</th>\n",
              "      <th>Total_population</th>\n",
              "      <th>_id</th>\n",
              "    </tr>\n",
              "    <tr>\n",
              "      <th>Region_Name</th>\n",
              "      <th>_id</th>\n",
              "      <th></th>\n",
              "      <th></th>\n",
              "      <th></th>\n",
              "      <th></th>\n",
              "      <th></th>\n",
              "      <th></th>\n",
              "      <th></th>\n",
              "      <th></th>\n",
              "      <th></th>\n",
              "    </tr>\n",
              "  </thead>\n",
              "  <tbody>\n",
              "    <tr>\n",
              "      <th rowspan=\"5\" valign=\"top\">North East</th>\n",
              "      <th>1</th>\n",
              "      <td>2019</td>\n",
              "      <td>E12000001</td>\n",
              "      <td>1</td>\n",
              "      <td>2019-01-04</td>\n",
              "      <td>574</td>\n",
              "      <td>-2.511655</td>\n",
              "      <td>10.670487</td>\n",
              "      <td>2669941</td>\n",
              "      <td>1</td>\n",
              "    </tr>\n",
              "    <tr>\n",
              "      <th>2</th>\n",
              "      <td>2019</td>\n",
              "      <td>E12000001</td>\n",
              "      <td>2</td>\n",
              "      <td>2019-01-11</td>\n",
              "      <td>643</td>\n",
              "      <td>-0.358468</td>\n",
              "      <td>10.641886</td>\n",
              "      <td>2669941</td>\n",
              "      <td>2</td>\n",
              "    </tr>\n",
              "    <tr>\n",
              "      <th>3</th>\n",
              "      <td>2019</td>\n",
              "      <td>E12000001</td>\n",
              "      <td>3</td>\n",
              "      <td>2019-01-18</td>\n",
              "      <td>627</td>\n",
              "      <td>-3.949547</td>\n",
              "      <td>9.949347</td>\n",
              "      <td>2669941</td>\n",
              "      <td>3</td>\n",
              "    </tr>\n",
              "    <tr>\n",
              "      <th>4</th>\n",
              "      <td>2019</td>\n",
              "      <td>E12000001</td>\n",
              "      <td>4</td>\n",
              "      <td>2019-01-25</td>\n",
              "      <td>640</td>\n",
              "      <td>-5.146210</td>\n",
              "      <td>10.009549</td>\n",
              "      <td>2669941</td>\n",
              "      <td>4</td>\n",
              "    </tr>\n",
              "    <tr>\n",
              "      <th>5</th>\n",
              "      <td>2019</td>\n",
              "      <td>E12000001</td>\n",
              "      <td>5</td>\n",
              "      <td>2019-02-01</td>\n",
              "      <td>618</td>\n",
              "      <td>-7.396507</td>\n",
              "      <td>8.452167</td>\n",
              "      <td>2669941</td>\n",
              "      <td>5</td>\n",
              "    </tr>\n",
              "  </tbody>\n",
              "</table>\n",
              "</div>\n",
              "      <button class=\"colab-df-convert\" onclick=\"convertToInteractive('df-2970ed6d-c2cd-40a9-bd34-89717cbc6b59')\"\n",
              "              title=\"Convert this dataframe to an interactive table.\"\n",
              "              style=\"display:none;\">\n",
              "        \n",
              "  <svg xmlns=\"http://www.w3.org/2000/svg\" height=\"24px\"viewBox=\"0 0 24 24\"\n",
              "       width=\"24px\">\n",
              "    <path d=\"M0 0h24v24H0V0z\" fill=\"none\"/>\n",
              "    <path d=\"M18.56 5.44l.94 2.06.94-2.06 2.06-.94-2.06-.94-.94-2.06-.94 2.06-2.06.94zm-11 1L8.5 8.5l.94-2.06 2.06-.94-2.06-.94L8.5 2.5l-.94 2.06-2.06.94zm10 10l.94 2.06.94-2.06 2.06-.94-2.06-.94-.94-2.06-.94 2.06-2.06.94z\"/><path d=\"M17.41 7.96l-1.37-1.37c-.4-.4-.92-.59-1.43-.59-.52 0-1.04.2-1.43.59L10.3 9.45l-7.72 7.72c-.78.78-.78 2.05 0 2.83L4 21.41c.39.39.9.59 1.41.59.51 0 1.02-.2 1.41-.59l7.78-7.78 2.81-2.81c.8-.78.8-2.07 0-2.86zM5.41 20L4 18.59l7.72-7.72 1.47 1.35L5.41 20z\"/>\n",
              "  </svg>\n",
              "      </button>\n",
              "      \n",
              "  <style>\n",
              "    .colab-df-container {\n",
              "      display:flex;\n",
              "      flex-wrap:wrap;\n",
              "      gap: 12px;\n",
              "    }\n",
              "\n",
              "    .colab-df-convert {\n",
              "      background-color: #E8F0FE;\n",
              "      border: none;\n",
              "      border-radius: 50%;\n",
              "      cursor: pointer;\n",
              "      display: none;\n",
              "      fill: #1967D2;\n",
              "      height: 32px;\n",
              "      padding: 0 0 0 0;\n",
              "      width: 32px;\n",
              "    }\n",
              "\n",
              "    .colab-df-convert:hover {\n",
              "      background-color: #E2EBFA;\n",
              "      box-shadow: 0px 1px 2px rgba(60, 64, 67, 0.3), 0px 1px 3px 1px rgba(60, 64, 67, 0.15);\n",
              "      fill: #174EA6;\n",
              "    }\n",
              "\n",
              "    [theme=dark] .colab-df-convert {\n",
              "      background-color: #3B4455;\n",
              "      fill: #D2E3FC;\n",
              "    }\n",
              "\n",
              "    [theme=dark] .colab-df-convert:hover {\n",
              "      background-color: #434B5C;\n",
              "      box-shadow: 0px 1px 3px 1px rgba(0, 0, 0, 0.15);\n",
              "      filter: drop-shadow(0px 1px 2px rgba(0, 0, 0, 0.3));\n",
              "      fill: #FFFFFF;\n",
              "    }\n",
              "  </style>\n",
              "\n",
              "      <script>\n",
              "        const buttonEl =\n",
              "          document.querySelector('#df-2970ed6d-c2cd-40a9-bd34-89717cbc6b59 button.colab-df-convert');\n",
              "        buttonEl.style.display =\n",
              "          google.colab.kernel.accessAllowed ? 'block' : 'none';\n",
              "\n",
              "        async function convertToInteractive(key) {\n",
              "          const element = document.querySelector('#df-2970ed6d-c2cd-40a9-bd34-89717cbc6b59');\n",
              "          const dataTable =\n",
              "            await google.colab.kernel.invokeFunction('convertToInteractive',\n",
              "                                                     [key], {});\n",
              "          if (!dataTable) return;\n",
              "\n",
              "          const docLinkHtml = 'Like what you see? Visit the ' +\n",
              "            '<a target=\"_blank\" href=https://colab.research.google.com/notebooks/data_table.ipynb>data table notebook</a>'\n",
              "            + ' to learn more about interactive tables.';\n",
              "          element.innerHTML = '';\n",
              "          dataTable['output_type'] = 'display_data';\n",
              "          await google.colab.output.renderOutput(dataTable, element);\n",
              "          const docLink = document.createElement('div');\n",
              "          docLink.innerHTML = docLinkHtml;\n",
              "          element.appendChild(docLink);\n",
              "        }\n",
              "      </script>\n",
              "    </div>\n",
              "  </div>\n",
              "  "
            ],
            "text/plain": [
              "                 Year Region_Code  Week_No  ...        max  Total_population  _id\n",
              "Region_Name _id                             ...                                  \n",
              "North East  1    2019   E12000001        1  ...  10.670487           2669941    1\n",
              "            2    2019   E12000001        2  ...  10.641886           2669941    2\n",
              "            3    2019   E12000001        3  ...   9.949347           2669941    3\n",
              "            4    2019   E12000001        4  ...  10.009549           2669941    4\n",
              "            5    2019   E12000001        5  ...   8.452167           2669941    5\n",
              "\n",
              "[5 rows x 9 columns]"
            ]
          },
          "metadata": {},
          "execution_count": 227
        }
      ]
    },
    {
      "cell_type": "code",
      "source": [
        "dataset.tail()\n",
        "# Creating a new var\n",
        "dataset['deaths'] = deaths\n",
        "dataset['Year'] = dataset['Year'].astype(int)\n",
        "d1 = dataset.loc[dataset['Year'] >= 2010,:]"
      ],
      "metadata": {
        "id": "VexeicOSs_gP"
      },
      "execution_count": null,
      "outputs": []
    },
    {
      "cell_type": "code",
      "source": [
        "d1.head()\n",
        "d1.tail()"
      ],
      "metadata": {
        "id": "Mh9k_jbvs_no"
      },
      "execution_count": null,
      "outputs": []
    },
    {
      "cell_type": "code",
      "source": [
        "list(d1['Region_Code'].dropna().unique())\n"
      ],
      "metadata": {
        "id": "V-CULtV4z-Ky"
      },
      "execution_count": null,
      "outputs": []
    },
    {
      "cell_type": "code",
      "source": [
        "\n",
        "# mortality\n",
        "varlist = ['min','max']\n",
        "\n",
        "for i in varlist:\n",
        "  exog = sm.tools.tools.add_constant(dataset[i])\n",
        "  endog = d1['deaths']\n",
        "  mod = PooledOLS(endog, exog)\n",
        "  pooledOLS_res = mod.fit(cov_type='clustered', cluster_entity=True)\n",
        "\n",
        "  print(pooledOLS_res)\n",
        "  # Store values for checking homoskedasticity graphically\n",
        "  fittedvals_pooled_OLS = pooledOLS_res.predict().fitted_values\n",
        "  residuals_pooled_OLS = pooledOLS_res.resids\n",
        "\n"
      ],
      "metadata": {
        "id": "BrBMLp-2pqWo"
      },
      "execution_count": null,
      "outputs": []
    },
    {
      "cell_type": "code",
      "source": [
        "# Plotting the residuals\n",
        "# Homoskedasticity check\n",
        "import matplotlib.pyplot as plt\n",
        " # Residuals-Plot for growing Variance Detection\n",
        "fig, ax = plt.subplots()\n",
        "ax.scatter(fittedvals_pooled_OLS, residuals_pooled_OLS, color = 'blue')\n",
        "ax.axhline(0, color = 'r', ls = '--')\n",
        "ax.set_xlabel('Predicted Values', fontsize = 15)\n",
        "ax.set_ylabel('Residuals', fontsize = 15)\n",
        "ax.set_title('Homoskedasticity Test', fontsize = 30)\n",
        "plt.show()"
      ],
      "metadata": {
        "id": "-sy59tkryWro"
      },
      "execution_count": null,
      "outputs": []
    },
    {
      "cell_type": "code",
      "source": [
        "\n",
        "# Check if want to do Breusch-Pagan and Durbin Watson Test\n",
        "\n",
        "# Fixed effects model\n",
        "# For intuition: https://www.youtube.com/watch?v=1SchyQ77VFg\n",
        "# FE und RE model\n",
        "from linearmodels import PanelOLS\n",
        "from linearmodels import RandomEffects\n",
        "from linearmodels.panel.model import FirstDifferenceOLS\n",
        "for i in varlist:\n",
        "  fd_exo = d1[i]\n",
        "  d1.groupby(\"Week_Date\")[i].diff()\n",
        "\n",
        "  # First Difference\n",
        "  model_fd = FirstDifferenceOLS(endog, fd_exo)\n",
        "  fd_res = model_fd.fit()\n",
        "  print(fd_res)\n",
        "\n",
        "  exog = sm.tools.tools.add_constant(d1[i])\n",
        "  endog = d1['deaths']\n",
        "\n",
        "  mod = RandomEffects(endog, exog)\n",
        "  re_res = mod.fit()\n",
        "  print(re_res)\n",
        " \n"
      ],
      "metadata": {
        "id": "kaQpOrD4xUMi"
      },
      "execution_count": null,
      "outputs": []
    },
    {
      "cell_type": "code",
      "source": [
        "# Random Effects\n",
        "mod = RandomEffects(endog, exog)\n",
        "re_res = mod.fit()\n",
        "print(re_res)"
      ],
      "metadata": {
        "id": "JxPffPVX1AsN"
      },
      "execution_count": null,
      "outputs": []
    },
    {
      "cell_type": "code",
      "source": [
        "\n",
        "# fixed effects model\n",
        "model_fe = PanelOLS(endog, exog, entity_effects = True) \n",
        "fe_res = model_fe.fit() \n",
        "#print results\n",
        "print(fe_res)"
      ],
      "metadata": {
        "id": "_PdFoc1IxkQG"
      },
      "execution_count": null,
      "outputs": []
    },
    {
      "cell_type": "code",
      "source": [
        "\n",
        "# 2-way fixed effects\n",
        "model_fe2 = PanelOLS(endog, exog, entity_effects = True, time_effects = True) \n",
        "fe_res2 = model_fe2.fit() \n",
        "print(fe_res2)"
      ],
      "metadata": {
        "id": "lLp3NNTTxkib"
      },
      "execution_count": null,
      "outputs": []
    },
    {
      "cell_type": "markdown",
      "source": [
        "Theme loop for graphs for consistency\n",
        "\n",
        "Link for designing own theme (in case I have time): https://plotly.com/python/templates/"
      ],
      "metadata": {
        "id": "AmJh99r_bXhq"
      }
    },
    {
      "cell_type": "code",
      "source": [
        "# importing the theme templates\n",
        "import plotly.io as pio\n",
        "pio.templates\n",
        "# importing plotly for graphs\n",
        "import plotly_express as px\n",
        "\n",
        "# Making an object for theme and graphing\n",
        "# Other options available: plotly, plotly_white, plotly_dark, ggplot2, seaborn\n",
        "for template in [\"simple_white\"]:\n",
        "    fig = px.scatter(px.data.gapminder(), x=\"temperature\", y=\"mortality\", animation_frame=\"year\", animation_group=\"region\",\n",
        "           size=\"pop\", color=\"region\", hover_name=\"region\", \n",
        "           log_x = True, \n",
        "           size_max=45, range_x=[-10,50], range_y=[0,10000000], template = template) # template = template at the end will do the needful\n",
        "           # change the X and Y range according to the data\n",
        "    fig.show()"
      ],
      "metadata": {
        "id": "o9gMBQuUbadY"
      },
      "execution_count": null,
      "outputs": []
    },
    {
      "cell_type": "markdown",
      "source": [
        "Creating sub-samples for observations in winter and summer"
      ],
      "metadata": {
        "id": "XmdJhvmhXbDP"
      }
    },
    {
      "cell_type": "code",
      "source": [
        "winter = pd.DataFrame()\n",
        "summer = pd.DataFrame()\n",
        "for i in range(2010,2020):\n",
        "    year_start = dt.datetime(year=i,month=1,day=1)\n",
        "    year_end = dt.datetime(year=i,month=12,day=31)\n",
        "    winter_end = dt.datetime(year=i,month=3,day=15)\n",
        "    winter_start = dt.datetime(year=i,month=11,day=15)\n",
        "    summer_start = dt.datetime(year=i,month=5,day=15)\n",
        "    summer_end = dt.datetime(year=i,month=9,day=15)\n",
        "    w = df.loc[((dataset['Week_Date']>year_start)&(dataset['Week_Date']<winter_end)|(dataset['Week_Date']>winter_start)&(dataset['Week_Date']<year_end)),:]\n",
        "    s = df.loc[(dataset['Week_Date']>summer_start)&(dataset['Week_Date']<summer_end),:]\n",
        "    winter = pd.concat([winter,w])\n",
        "    summer = pd.concat([summer,s])"
      ],
      "metadata": {
        "id": "9V3ckoBUX7Ww"
      },
      "execution_count": null,
      "outputs": []
    },
    {
      "cell_type": "markdown",
      "source": [
        "Doing the Summer Regressions"
      ],
      "metadata": {
        "id": "TFxlHcoaV5aj"
      }
    },
    {
      "cell_type": "code",
      "source": [
        "import pandas as pd\n",
        "dataset = pd.read_csv('https://raw.githubusercontent.com/PythonForEconomicsWeek2022/clownfish_cookies/main/summer_samples.csv', usecols = ['Year', 'Region_Code', 'Region_Name', 'Week_No', 'Week_Date', 'Mortality', 'min', 'max', 'Total_population', '_id'], index_col = ['Region_Name', '_id'])\n",
        "\n",
        "week = dataset.index.get_level_values('_id').to_list()\n",
        "dataset['_id'] = pd.Categorical(week)\n",
        "dataset.head()\n",
        "\n"
      ],
      "metadata": {
        "colab": {
          "base_uri": "https://localhost:8080/",
          "height": 297
        },
        "id": "16yyrNO9V4QT",
        "outputId": "83b772b0-b629-4d30-9dd3-789901f56095"
      },
      "execution_count": null,
      "outputs": [
        {
          "output_type": "execute_result",
          "data": {
            "text/html": [
              "\n",
              "  <div id=\"df-3f61ba48-a64a-478d-a1af-f612d80ba0a2\">\n",
              "    <div class=\"colab-df-container\">\n",
              "      <div>\n",
              "<style scoped>\n",
              "    .dataframe tbody tr th:only-of-type {\n",
              "        vertical-align: middle;\n",
              "    }\n",
              "\n",
              "    .dataframe tbody tr th {\n",
              "        vertical-align: top;\n",
              "    }\n",
              "\n",
              "    .dataframe thead th {\n",
              "        text-align: right;\n",
              "    }\n",
              "</style>\n",
              "<table border=\"1\" class=\"dataframe\">\n",
              "  <thead>\n",
              "    <tr style=\"text-align: right;\">\n",
              "      <th></th>\n",
              "      <th>Year</th>\n",
              "      <th>Week_No</th>\n",
              "      <th>Mortality</th>\n",
              "      <th>min</th>\n",
              "      <th>max</th>\n",
              "    </tr>\n",
              "  </thead>\n",
              "  <tbody>\n",
              "    <tr>\n",
              "      <th>count</th>\n",
              "      <td>1750.000000</td>\n",
              "      <td>1750.000000</td>\n",
              "      <td>1750.000000</td>\n",
              "      <td>1750.000000</td>\n",
              "      <td>1750.000000</td>\n",
              "    </tr>\n",
              "    <tr>\n",
              "      <th>mean</th>\n",
              "      <td>2014.520000</td>\n",
              "      <td>28.354286</td>\n",
              "      <td>895.787429</td>\n",
              "      <td>7.694187</td>\n",
              "      <td>22.536495</td>\n",
              "    </tr>\n",
              "    <tr>\n",
              "      <th>std</th>\n",
              "      <td>2.873033</td>\n",
              "      <td>5.061110</td>\n",
              "      <td>264.017487</td>\n",
              "      <td>2.584649</td>\n",
              "      <td>3.544095</td>\n",
              "    </tr>\n",
              "    <tr>\n",
              "      <th>min</th>\n",
              "      <td>2010.000000</td>\n",
              "      <td>20.000000</td>\n",
              "      <td>362.000000</td>\n",
              "      <td>0.040725</td>\n",
              "      <td>12.463222</td>\n",
              "    </tr>\n",
              "    <tr>\n",
              "      <th>25%</th>\n",
              "      <td>2012.000000</td>\n",
              "      <td>24.000000</td>\n",
              "      <td>747.000000</td>\n",
              "      <td>5.890279</td>\n",
              "      <td>20.070446</td>\n",
              "    </tr>\n",
              "    <tr>\n",
              "      <th>50%</th>\n",
              "      <td>2014.000000</td>\n",
              "      <td>28.000000</td>\n",
              "      <td>893.500000</td>\n",
              "      <td>7.948533</td>\n",
              "      <td>22.309182</td>\n",
              "    </tr>\n",
              "    <tr>\n",
              "      <th>75%</th>\n",
              "      <td>2017.000000</td>\n",
              "      <td>33.000000</td>\n",
              "      <td>1018.000000</td>\n",
              "      <td>9.572979</td>\n",
              "      <td>24.684531</td>\n",
              "    </tr>\n",
              "    <tr>\n",
              "      <th>max</th>\n",
              "      <td>2019.000000</td>\n",
              "      <td>37.000000</td>\n",
              "      <td>1639.000000</td>\n",
              "      <td>14.973950</td>\n",
              "      <td>36.727701</td>\n",
              "    </tr>\n",
              "  </tbody>\n",
              "</table>\n",
              "</div>\n",
              "      <button class=\"colab-df-convert\" onclick=\"convertToInteractive('df-3f61ba48-a64a-478d-a1af-f612d80ba0a2')\"\n",
              "              title=\"Convert this dataframe to an interactive table.\"\n",
              "              style=\"display:none;\">\n",
              "        \n",
              "  <svg xmlns=\"http://www.w3.org/2000/svg\" height=\"24px\"viewBox=\"0 0 24 24\"\n",
              "       width=\"24px\">\n",
              "    <path d=\"M0 0h24v24H0V0z\" fill=\"none\"/>\n",
              "    <path d=\"M18.56 5.44l.94 2.06.94-2.06 2.06-.94-2.06-.94-.94-2.06-.94 2.06-2.06.94zm-11 1L8.5 8.5l.94-2.06 2.06-.94-2.06-.94L8.5 2.5l-.94 2.06-2.06.94zm10 10l.94 2.06.94-2.06 2.06-.94-2.06-.94-.94-2.06-.94 2.06-2.06.94z\"/><path d=\"M17.41 7.96l-1.37-1.37c-.4-.4-.92-.59-1.43-.59-.52 0-1.04.2-1.43.59L10.3 9.45l-7.72 7.72c-.78.78-.78 2.05 0 2.83L4 21.41c.39.39.9.59 1.41.59.51 0 1.02-.2 1.41-.59l7.78-7.78 2.81-2.81c.8-.78.8-2.07 0-2.86zM5.41 20L4 18.59l7.72-7.72 1.47 1.35L5.41 20z\"/>\n",
              "  </svg>\n",
              "      </button>\n",
              "      \n",
              "  <style>\n",
              "    .colab-df-container {\n",
              "      display:flex;\n",
              "      flex-wrap:wrap;\n",
              "      gap: 12px;\n",
              "    }\n",
              "\n",
              "    .colab-df-convert {\n",
              "      background-color: #E8F0FE;\n",
              "      border: none;\n",
              "      border-radius: 50%;\n",
              "      cursor: pointer;\n",
              "      display: none;\n",
              "      fill: #1967D2;\n",
              "      height: 32px;\n",
              "      padding: 0 0 0 0;\n",
              "      width: 32px;\n",
              "    }\n",
              "\n",
              "    .colab-df-convert:hover {\n",
              "      background-color: #E2EBFA;\n",
              "      box-shadow: 0px 1px 2px rgba(60, 64, 67, 0.3), 0px 1px 3px 1px rgba(60, 64, 67, 0.15);\n",
              "      fill: #174EA6;\n",
              "    }\n",
              "\n",
              "    [theme=dark] .colab-df-convert {\n",
              "      background-color: #3B4455;\n",
              "      fill: #D2E3FC;\n",
              "    }\n",
              "\n",
              "    [theme=dark] .colab-df-convert:hover {\n",
              "      background-color: #434B5C;\n",
              "      box-shadow: 0px 1px 3px 1px rgba(0, 0, 0, 0.15);\n",
              "      filter: drop-shadow(0px 1px 2px rgba(0, 0, 0, 0.3));\n",
              "      fill: #FFFFFF;\n",
              "    }\n",
              "  </style>\n",
              "\n",
              "      <script>\n",
              "        const buttonEl =\n",
              "          document.querySelector('#df-3f61ba48-a64a-478d-a1af-f612d80ba0a2 button.colab-df-convert');\n",
              "        buttonEl.style.display =\n",
              "          google.colab.kernel.accessAllowed ? 'block' : 'none';\n",
              "\n",
              "        async function convertToInteractive(key) {\n",
              "          const element = document.querySelector('#df-3f61ba48-a64a-478d-a1af-f612d80ba0a2');\n",
              "          const dataTable =\n",
              "            await google.colab.kernel.invokeFunction('convertToInteractive',\n",
              "                                                     [key], {});\n",
              "          if (!dataTable) return;\n",
              "\n",
              "          const docLinkHtml = 'Like what you see? Visit the ' +\n",
              "            '<a target=\"_blank\" href=https://colab.research.google.com/notebooks/data_table.ipynb>data table notebook</a>'\n",
              "            + ' to learn more about interactive tables.';\n",
              "          element.innerHTML = '';\n",
              "          dataTable['output_type'] = 'display_data';\n",
              "          await google.colab.output.renderOutput(dataTable, element);\n",
              "          const docLink = document.createElement('div');\n",
              "          docLink.innerHTML = docLinkHtml;\n",
              "          element.appendChild(docLink);\n",
              "        }\n",
              "      </script>\n",
              "    </div>\n",
              "  </div>\n",
              "  "
            ],
            "text/plain": [
              "              Year      Week_No    Mortality          min          max\n",
              "count  1750.000000  1750.000000  1750.000000  1750.000000  1750.000000\n",
              "mean   2014.520000    28.354286   895.787429     7.694187    22.536495\n",
              "std       2.873033     5.061110   264.017487     2.584649     3.544095\n",
              "min    2010.000000    20.000000   362.000000     0.040725    12.463222\n",
              "25%    2012.000000    24.000000   747.000000     5.890279    20.070446\n",
              "50%    2014.000000    28.000000   893.500000     7.948533    22.309182\n",
              "75%    2017.000000    33.000000  1018.000000     9.572979    24.684531\n",
              "max    2019.000000    37.000000  1639.000000    14.973950    36.727701"
            ]
          },
          "metadata": {},
          "execution_count": 1
        }
      ]
    },
    {
      "cell_type": "code",
      "source": [
        "from linearmodels import PooledOLS\n",
        "import statsmodels.api as sm\n",
        "import matplotlib.pyplot as plt\n",
        "# temperature\n",
        "dataset['Total_population'] = dataset['Total_population'].str.lstrip()\n",
        "dataset['Total_population'] = dataset['Total_population'].str.rstrip()\n",
        "dataset['Total_population'] = dataset['Total_population'].str.strip()\n",
        "dataset['Total_population'] = dataset['Total_population'].str.replace(',', '')\n",
        "dataset['Total_population'] = dataset['Total_population'].fillna(0)\n",
        "dataset['Total_population'] = dataset['Total_population'].astype(int)\n",
        "\n",
        "\n",
        "deaths = dataset['Mortality']/dataset['Total_population']\n",
        "\n",
        "dataset.head()\n",
        "dataset.describe()\n"
      ],
      "metadata": {
        "id": "_Z7KIBYuWovG"
      },
      "execution_count": null,
      "outputs": []
    },
    {
      "cell_type": "code",
      "source": [
        "dataset.tail()\n",
        "# Creating a new var\n",
        "dataset['deaths'] = deaths\n",
        "dataset['Year'] = dataset['Year'].astype(int)\n",
        "d1 = dataset.loc[dataset['Year'] >= 2010,:]\n",
        "list(d1['Region_Code'].dropna().unique())"
      ],
      "metadata": {
        "colab": {
          "base_uri": "https://localhost:8080/"
        },
        "id": "P7UKegynWrOh",
        "outputId": "8dbda837-d836-4c73-fe18-1154cc55f51b"
      },
      "execution_count": null,
      "outputs": [
        {
          "output_type": "execute_result",
          "data": {
            "text/plain": [
              "['E12000001',\n",
              " 'E12000002',\n",
              " 'E12000003',\n",
              " 'E12000004',\n",
              " 'E12000005',\n",
              " 'E12000006',\n",
              " 'E12000007',\n",
              " 'E12000008',\n",
              " 'E12000009',\n",
              " 'W92000004']"
            ]
          },
          "metadata": {},
          "execution_count": 242
        }
      ]
    },
    {
      "cell_type": "code",
      "source": [
        "# mortality\n",
        "varlist = ['min','max']\n",
        "\n",
        "for i in varlist:\n",
        "  exog = sm.tools.tools.add_constant(dataset[i])\n",
        "  endog = d1['deaths']\n",
        "  mod = PooledOLS(endog, exog)\n",
        "  pooledOLS_res = mod.fit(cov_type='clustered', cluster_entity=True)\n",
        "\n",
        "  print(pooledOLS_res)\n",
        "  # Store values for checking homoskedasticity graphically\n",
        "  fittedvals_pooled_OLS = pooledOLS_res.predict().fitted_values\n",
        "  residuals_pooled_OLS = pooledOLS_res.resids\n",
        "  # Residuals-Plot for growing Variance Detection\n",
        "  fig, ax = plt.subplots()\n",
        "  ax.scatter(fittedvals_pooled_OLS, residuals_pooled_OLS, color = 'blue')\n",
        "  ax.axhline(0, color = 'r', ls = '--')\n",
        "  ax.set_xlabel('Predicted Values', fontsize = 15)\n",
        "  ax.set_ylabel('Residuals', fontsize = 15)\n",
        "  ax.set_title('Homoskedasticity Test', fontsize = 30)\n",
        "  plt.show()"
      ],
      "metadata": {
        "colab": {
          "base_uri": "https://localhost:8080/",
          "height": 1000
        },
        "id": "www6xhCRW-ea",
        "outputId": "3b5329aa-fd39-483f-e4b6-eafb41a98b50"
      },
      "execution_count": null,
      "outputs": [
        {
          "output_type": "stream",
          "name": "stdout",
          "text": [
            "                          PooledOLS Estimation Summary                          \n",
            "================================================================================\n",
            "Dep. Variable:                 deaths   R-squared:                        0.0941\n",
            "Estimator:                  PooledOLS   R-squared (Between):              0.1635\n",
            "No. Observations:                1750   R-squared (Within):              -0.1724\n",
            "Date:                Thu, Feb 24 2022   R-squared (Overall):              0.0941\n",
            "Time:                        15:41:49   Log-likelihood                 1.614e+04\n",
            "Cov. Estimator:             Clustered                                           \n",
            "                                        F-statistic:                      181.56\n",
            "Entities:                          10   P-value                           0.0000\n",
            "Avg Obs:                       175.00   Distribution:                  F(1,1748)\n",
            "Min Obs:                       175.00                                           \n",
            "Max Obs:                       175.00   F-statistic (robust):             5.4559\n",
            "                                        P-value                           0.0196\n",
            "Time periods:                    1750   Distribution:                  F(1,1748)\n",
            "Avg Obs:                       1.0000                                           \n",
            "Min Obs:                       1.0000                                           \n",
            "Max Obs:                       1.0000                                           \n",
            "                                                                                \n",
            "                             Parameter Estimates                              \n",
            "==============================================================================\n",
            "            Parameter  Std. Err.     T-stat    P-value    Lower CI    Upper CI\n",
            "------------------------------------------------------------------------------\n",
            "const          0.0002  5.619e-06     32.695     0.0000      0.0002      0.0002\n",
            "min        -2.988e-06  1.279e-06    -2.3358     0.0196  -5.497e-06  -4.791e-07\n",
            "==============================================================================\n"
          ]
        },
        {
          "output_type": "display_data",
          "data": {
            "image/png": "[encoded data removed]",
            "text/plain": [
              "<Figure size 432x288 with 1 Axes>"
            ]
          },
          "metadata": {
            "needs_background": "light"
          }
        },
        {
          "output_type": "stream",
          "name": "stdout",
          "text": [
            "                          PooledOLS Estimation Summary                          \n",
            "================================================================================\n",
            "Dep. Variable:                 deaths   R-squared:                        0.1083\n",
            "Estimator:                  PooledOLS   R-squared (Between):              0.2245\n",
            "No. Observations:                1750   R-squared (Within):              -0.3378\n",
            "Date:                Thu, Feb 24 2022   R-squared (Overall):              0.1083\n",
            "Time:                        15:41:50   Log-likelihood                 1.615e+04\n",
            "Cov. Estimator:             Clustered                                           \n",
            "                                        F-statistic:                      212.22\n",
            "Entities:                          10   P-value                           0.0000\n",
            "Avg Obs:                       175.00   Distribution:                  F(1,1748)\n",
            "Min Obs:                       175.00                                           \n",
            "Max Obs:                       175.00   F-statistic (robust):             6.1155\n",
            "                                        P-value                           0.0135\n",
            "Time periods:                    1750   Distribution:                  F(1,1748)\n",
            "Avg Obs:                       1.0000                                           \n",
            "Min Obs:                       1.0000                                           \n",
            "Max Obs:                       1.0000                                           \n",
            "                                                                                \n",
            "                             Parameter Estimates                              \n",
            "==============================================================================\n",
            "            Parameter  Std. Err.     T-stat    P-value    Lower CI    Upper CI\n",
            "------------------------------------------------------------------------------\n",
            "const          0.0002  1.687e-05     12.648     0.0000      0.0002      0.0002\n",
            "max        -2.338e-06  9.453e-07    -2.4730     0.0135  -4.192e-06  -4.836e-07\n",
            "==============================================================================\n"
          ]
        },
        {
          "output_type": "display_data",
          "data": {
            "image/png": "[encoded data removed]",
            "text/plain": [
              "<Figure size 432x288 with 1 Axes>"
            ]
          },
          "metadata": {
            "needs_background": "light"
          }
        }
      ]
    }
  ]
}